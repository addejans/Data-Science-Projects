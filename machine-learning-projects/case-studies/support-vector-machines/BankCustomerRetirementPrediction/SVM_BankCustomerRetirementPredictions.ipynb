{
 "cells": [
  {
   "cell_type": "markdown",
   "metadata": {},
   "source": [
    "# `BANK CUSTOMERS RETIREMENT PREDICTIONS USING SUPPORT VECTOR MACHINES`\n"
   ]
  },
  {
   "cell_type": "markdown",
   "metadata": {},
   "source": [
    "## PROBLEM STATEMENT"
   ]
  },
  {
   "cell_type": "markdown",
   "metadata": {},
   "source": [
    "You work as a data scientist at a major bank in NYC and you have been tasked to develop a model that can predict whether a customer is able to retire or not based on his/her features. Features are his/her age and net 401K savings (retirement savings in the U.S.). You thought that Support Vector Machines can be a great candidate to solve the problem. "
   ]
  },
  {
   "cell_type": "markdown",
   "metadata": {},
   "source": [
    "## IMPORTING DATA"
   ]
  },
  {
   "cell_type": "code",
   "execution_count": 1,
   "metadata": {
    "collapsed": true
   },
   "outputs": [],
   "source": [
    "# import libraries \n",
    "import pandas as pd # Import Pandas for data manipulation using dataframes\n",
    "import numpy as np # Import Numpy for data statistical analysis \n",
    "import matplotlib.pyplot as plt # Import matplotlib for data visualisation\n",
    "import seaborn as sns # Statistical data visualization\n",
    "%matplotlib inline"
   ]
  },
  {
   "cell_type": "code",
   "execution_count": 2,
   "metadata": {
    "collapsed": true
   },
   "outputs": [],
   "source": [
    "bank_df = pd.read_csv('Bank_Customer_retirement.csv')"
   ]
  },
  {
   "cell_type": "code",
   "execution_count": 3,
   "metadata": {},
   "outputs": [
    {
     "data": {
      "text/plain": [
       "Index([u'Customer ID', u'Age', u'401K Savings', u'Retire'], dtype='object')"
      ]
     },
     "execution_count": 3,
     "metadata": {},
     "output_type": "execute_result"
    }
   ],
   "source": [
    "bank_df.keys()"
   ]
  },
  {
   "cell_type": "code",
   "execution_count": 4,
   "metadata": {},
   "outputs": [
    {
     "data": {
      "text/plain": [
       "(500, 4)"
      ]
     },
     "execution_count": 4,
     "metadata": {},
     "output_type": "execute_result"
    }
   ],
   "source": [
    "bank_df.shape"
   ]
  },
  {
   "cell_type": "code",
   "execution_count": 5,
   "metadata": {},
   "outputs": [
    {
     "data": {
      "text/html": [
       "<div>\n",
       "<style>\n",
       "    .dataframe thead tr:only-child th {\n",
       "        text-align: right;\n",
       "    }\n",
       "\n",
       "    .dataframe thead th {\n",
       "        text-align: left;\n",
       "    }\n",
       "\n",
       "    .dataframe tbody tr th {\n",
       "        vertical-align: top;\n",
       "    }\n",
       "</style>\n",
       "<table border=\"1\" class=\"dataframe\">\n",
       "  <thead>\n",
       "    <tr style=\"text-align: right;\">\n",
       "      <th></th>\n",
       "      <th>Customer ID</th>\n",
       "      <th>Age</th>\n",
       "      <th>401K Savings</th>\n",
       "      <th>Retire</th>\n",
       "    </tr>\n",
       "  </thead>\n",
       "  <tbody>\n",
       "    <tr>\n",
       "      <th>0</th>\n",
       "      <td>0</td>\n",
       "      <td>39.180417</td>\n",
       "      <td>322349.8740</td>\n",
       "      <td>0</td>\n",
       "    </tr>\n",
       "    <tr>\n",
       "      <th>1</th>\n",
       "      <td>1</td>\n",
       "      <td>56.101686</td>\n",
       "      <td>768671.5740</td>\n",
       "      <td>1</td>\n",
       "    </tr>\n",
       "    <tr>\n",
       "      <th>2</th>\n",
       "      <td>2</td>\n",
       "      <td>57.023043</td>\n",
       "      <td>821505.4718</td>\n",
       "      <td>1</td>\n",
       "    </tr>\n",
       "    <tr>\n",
       "      <th>3</th>\n",
       "      <td>3</td>\n",
       "      <td>43.711358</td>\n",
       "      <td>494187.4850</td>\n",
       "      <td>0</td>\n",
       "    </tr>\n",
       "    <tr>\n",
       "      <th>4</th>\n",
       "      <td>4</td>\n",
       "      <td>54.728823</td>\n",
       "      <td>691435.7723</td>\n",
       "      <td>1</td>\n",
       "    </tr>\n",
       "  </tbody>\n",
       "</table>\n",
       "</div>"
      ],
      "text/plain": [
       "   Customer ID        Age  401K Savings  Retire\n",
       "0            0  39.180417   322349.8740       0\n",
       "1            1  56.101686   768671.5740       1\n",
       "2            2  57.023043   821505.4718       1\n",
       "3            3  43.711358   494187.4850       0\n",
       "4            4  54.728823   691435.7723       1"
      ]
     },
     "execution_count": 5,
     "metadata": {},
     "output_type": "execute_result"
    }
   ],
   "source": [
    "bank_df.head()"
   ]
  },
  {
   "cell_type": "code",
   "execution_count": 6,
   "metadata": {},
   "outputs": [
    {
     "data": {
      "text/html": [
       "<div>\n",
       "<style>\n",
       "    .dataframe thead tr:only-child th {\n",
       "        text-align: right;\n",
       "    }\n",
       "\n",
       "    .dataframe thead th {\n",
       "        text-align: left;\n",
       "    }\n",
       "\n",
       "    .dataframe tbody tr th {\n",
       "        vertical-align: top;\n",
       "    }\n",
       "</style>\n",
       "<table border=\"1\" class=\"dataframe\">\n",
       "  <thead>\n",
       "    <tr style=\"text-align: right;\">\n",
       "      <th></th>\n",
       "      <th>Customer ID</th>\n",
       "      <th>Age</th>\n",
       "      <th>401K Savings</th>\n",
       "      <th>Retire</th>\n",
       "    </tr>\n",
       "  </thead>\n",
       "  <tbody>\n",
       "    <tr>\n",
       "      <th>495</th>\n",
       "      <td>495</td>\n",
       "      <td>46.678128</td>\n",
       "      <td>704243.0776</td>\n",
       "      <td>1</td>\n",
       "    </tr>\n",
       "    <tr>\n",
       "      <th>496</th>\n",
       "      <td>496</td>\n",
       "      <td>43.545007</td>\n",
       "      <td>483175.9998</td>\n",
       "      <td>0</td>\n",
       "    </tr>\n",
       "    <tr>\n",
       "      <th>497</th>\n",
       "      <td>497</td>\n",
       "      <td>46.476724</td>\n",
       "      <td>354919.1987</td>\n",
       "      <td>0</td>\n",
       "    </tr>\n",
       "    <tr>\n",
       "      <th>498</th>\n",
       "      <td>498</td>\n",
       "      <td>50.903631</td>\n",
       "      <td>639789.9219</td>\n",
       "      <td>1</td>\n",
       "    </tr>\n",
       "    <tr>\n",
       "      <th>499</th>\n",
       "      <td>499</td>\n",
       "      <td>38.590586</td>\n",
       "      <td>491310.0096</td>\n",
       "      <td>0</td>\n",
       "    </tr>\n",
       "  </tbody>\n",
       "</table>\n",
       "</div>"
      ],
      "text/plain": [
       "     Customer ID        Age  401K Savings  Retire\n",
       "495          495  46.678128   704243.0776       1\n",
       "496          496  43.545007   483175.9998       0\n",
       "497          497  46.476724   354919.1987       0\n",
       "498          498  50.903631   639789.9219       1\n",
       "499          499  38.590586   491310.0096       0"
      ]
     },
     "execution_count": 6,
     "metadata": {},
     "output_type": "execute_result"
    }
   ],
   "source": [
    "bank_df.tail()"
   ]
  },
  {
   "cell_type": "markdown",
   "metadata": {},
   "source": [
    "## VISUALIZING THE DATA"
   ]
  },
  {
   "cell_type": "code",
   "execution_count": 7,
   "metadata": {},
   "outputs": [
    {
     "data": {
      "text/plain": [
       "<seaborn.axisgrid.PairGrid at 0xbfc8278>"
      ]
     },
     "execution_count": 7,
     "metadata": {},
     "output_type": "execute_result"
    },
    {
     "data": {
      "image/png": "[encoded data removed]",
      "text/plain": [
       "<matplotlib.figure.Figure at 0xbfc82b0>"
      ]
     },
     "metadata": {},
     "output_type": "display_data"
    }
   ],
   "source": [
    "sns.pairplot(bank_df, hue = 'Retire', vars = ['Age', '401K Savings'] )"
   ]
  },
  {
   "cell_type": "code",
   "execution_count": 8,
   "metadata": {},
   "outputs": [
    {
     "data": {
      "text/plain": [
       "<matplotlib.axes._subplots.AxesSubplot at 0xd15b7f0>"
      ]
     },
     "execution_count": 8,
     "metadata": {},
     "output_type": "execute_result"
    },
    {
     "data": {
      "image/png": "[encoded data removed]",
      "text/plain": [
       "<matplotlib.figure.Figure at 0xc22d4a8>"
      ]
     },
     "metadata": {},
     "output_type": "display_data"
    }
   ],
   "source": [
    "sns.countplot(bank_df['Retire'], label = \"Retirement\") "
   ]
  },
  {
   "cell_type": "markdown",
   "metadata": {},
   "source": [
    "## MODEL TRAINING "
   ]
  },
  {
   "cell_type": "code",
   "execution_count": 9,
   "metadata": {
    "collapsed": true
   },
   "outputs": [],
   "source": [
    "bank_df = bank_df.drop(['Customer ID'],axis=1)"
   ]
  },
  {
   "cell_type": "code",
   "execution_count": 10,
   "metadata": {
    "collapsed": true
   },
   "outputs": [],
   "source": [
    "# Drop the target label coloumns\n",
    "X = bank_df.drop(['Retire'],axis=1)"
   ]
  },
  {
   "cell_type": "code",
   "execution_count": 11,
   "metadata": {},
   "outputs": [
    {
     "data": {
      "text/html": [
       "<div>\n",
       "<style>\n",
       "    .dataframe thead tr:only-child th {\n",
       "        text-align: right;\n",
       "    }\n",
       "\n",
       "    .dataframe thead th {\n",
       "        text-align: left;\n",
       "    }\n",
       "\n",
       "    .dataframe tbody tr th {\n",
       "        vertical-align: top;\n",
       "    }\n",
       "</style>\n",
       "<table border=\"1\" class=\"dataframe\">\n",
       "  <thead>\n",
       "    <tr style=\"text-align: right;\">\n",
       "      <th></th>\n",
       "      <th>Age</th>\n",
       "      <th>401K Savings</th>\n",
       "    </tr>\n",
       "  </thead>\n",
       "  <tbody>\n",
       "    <tr>\n",
       "      <th>0</th>\n",
       "      <td>39.180417</td>\n",
       "      <td>322349.87400</td>\n",
       "    </tr>\n",
       "    <tr>\n",
       "      <th>1</th>\n",
       "      <td>56.101686</td>\n",
       "      <td>768671.57400</td>\n",
       "    </tr>\n",
       "    <tr>\n",
       "      <th>2</th>\n",
       "      <td>57.023043</td>\n",
       "      <td>821505.47180</td>\n",
       "    </tr>\n",
       "    <tr>\n",
       "      <th>3</th>\n",
       "      <td>43.711358</td>\n",
       "      <td>494187.48500</td>\n",
       "    </tr>\n",
       "    <tr>\n",
       "      <th>4</th>\n",
       "      <td>54.728823</td>\n",
       "      <td>691435.77230</td>\n",
       "    </tr>\n",
       "    <tr>\n",
       "      <th>5</th>\n",
       "      <td>50.499789</td>\n",
       "      <td>742398.90680</td>\n",
       "    </tr>\n",
       "    <tr>\n",
       "      <th>6</th>\n",
       "      <td>39.573302</td>\n",
       "      <td>578650.31560</td>\n",
       "    </tr>\n",
       "    <tr>\n",
       "      <th>7</th>\n",
       "      <td>55.159309</td>\n",
       "      <td>533821.20110</td>\n",
       "    </tr>\n",
       "    <tr>\n",
       "      <th>8</th>\n",
       "      <td>30.791271</td>\n",
       "      <td>459592.40840</td>\n",
       "    </tr>\n",
       "    <tr>\n",
       "      <th>9</th>\n",
       "      <td>40.456073</td>\n",
       "      <td>396800.25090</td>\n",
       "    </tr>\n",
       "    <tr>\n",
       "      <th>10</th>\n",
       "      <td>33.891197</td>\n",
       "      <td>272808.27190</td>\n",
       "    </tr>\n",
       "    <tr>\n",
       "      <th>11</th>\n",
       "      <td>42.754416</td>\n",
       "      <td>377042.24580</td>\n",
       "    </tr>\n",
       "    <tr>\n",
       "      <th>12</th>\n",
       "      <td>44.224980</td>\n",
       "      <td>482773.22360</td>\n",
       "    </tr>\n",
       "    <tr>\n",
       "      <th>13</th>\n",
       "      <td>47.499065</td>\n",
       "      <td>628103.67790</td>\n",
       "    </tr>\n",
       "    <tr>\n",
       "      <th>14</th>\n",
       "      <td>62.862411</td>\n",
       "      <td>771170.28450</td>\n",
       "    </tr>\n",
       "    <tr>\n",
       "      <th>15</th>\n",
       "      <td>56.331436</td>\n",
       "      <td>531736.74180</td>\n",
       "    </tr>\n",
       "    <tr>\n",
       "      <th>16</th>\n",
       "      <td>43.166995</td>\n",
       "      <td>475505.76040</td>\n",
       "    </tr>\n",
       "    <tr>\n",
       "      <th>17</th>\n",
       "      <td>63.785544</td>\n",
       "      <td>669249.97070</td>\n",
       "    </tr>\n",
       "    <tr>\n",
       "      <th>18</th>\n",
       "      <td>45.790401</td>\n",
       "      <td>488283.99620</td>\n",
       "    </tr>\n",
       "    <tr>\n",
       "      <th>19</th>\n",
       "      <td>49.070731</td>\n",
       "      <td>666179.03390</td>\n",
       "    </tr>\n",
       "    <tr>\n",
       "      <th>20</th>\n",
       "      <td>44.929077</td>\n",
       "      <td>667652.07410</td>\n",
       "    </tr>\n",
       "    <tr>\n",
       "      <th>21</th>\n",
       "      <td>48.337938</td>\n",
       "      <td>576300.13210</td>\n",
       "    </tr>\n",
       "    <tr>\n",
       "      <th>22</th>\n",
       "      <td>51.291044</td>\n",
       "      <td>584324.07870</td>\n",
       "    </tr>\n",
       "    <tr>\n",
       "      <th>23</th>\n",
       "      <td>47.073786</td>\n",
       "      <td>676035.72310</td>\n",
       "    </tr>\n",
       "    <tr>\n",
       "      <th>24</th>\n",
       "      <td>47.759759</td>\n",
       "      <td>538416.34500</td>\n",
       "    </tr>\n",
       "    <tr>\n",
       "      <th>25</th>\n",
       "      <td>49.692698</td>\n",
       "      <td>727503.27610</td>\n",
       "    </tr>\n",
       "    <tr>\n",
       "      <th>26</th>\n",
       "      <td>38.040414</td>\n",
       "      <td>382831.37020</td>\n",
       "    </tr>\n",
       "    <tr>\n",
       "      <th>27</th>\n",
       "      <td>48.021294</td>\n",
       "      <td>759955.47000</td>\n",
       "    </tr>\n",
       "    <tr>\n",
       "      <th>28</th>\n",
       "      <td>34.859999</td>\n",
       "      <td>349137.70720</td>\n",
       "    </tr>\n",
       "    <tr>\n",
       "      <th>29</th>\n",
       "      <td>40.403537</td>\n",
       "      <td>439074.52170</td>\n",
       "    </tr>\n",
       "    <tr>\n",
       "      <th>...</th>\n",
       "      <td>...</td>\n",
       "      <td>...</td>\n",
       "    </tr>\n",
       "    <tr>\n",
       "      <th>470</th>\n",
       "      <td>48.855161</td>\n",
       "      <td>284513.10180</td>\n",
       "    </tr>\n",
       "    <tr>\n",
       "      <th>471</th>\n",
       "      <td>41.332491</td>\n",
       "      <td>508589.00450</td>\n",
       "    </tr>\n",
       "    <tr>\n",
       "      <th>472</th>\n",
       "      <td>44.551781</td>\n",
       "      <td>477706.95010</td>\n",
       "    </tr>\n",
       "    <tr>\n",
       "      <th>473</th>\n",
       "      <td>45.640679</td>\n",
       "      <td>428892.62290</td>\n",
       "    </tr>\n",
       "    <tr>\n",
       "      <th>474</th>\n",
       "      <td>43.368261</td>\n",
       "      <td>408815.12930</td>\n",
       "    </tr>\n",
       "    <tr>\n",
       "      <th>475</th>\n",
       "      <td>60.267177</td>\n",
       "      <td>536666.47290</td>\n",
       "    </tr>\n",
       "    <tr>\n",
       "      <th>476</th>\n",
       "      <td>48.877751</td>\n",
       "      <td>671181.13960</td>\n",
       "    </tr>\n",
       "    <tr>\n",
       "      <th>477</th>\n",
       "      <td>34.393394</td>\n",
       "      <td>322818.91650</td>\n",
       "    </tr>\n",
       "    <tr>\n",
       "      <th>478</th>\n",
       "      <td>45.829350</td>\n",
       "      <td>534021.37780</td>\n",
       "    </tr>\n",
       "    <tr>\n",
       "      <th>479</th>\n",
       "      <td>60.025200</td>\n",
       "      <td>727621.52530</td>\n",
       "    </tr>\n",
       "    <tr>\n",
       "      <th>480</th>\n",
       "      <td>64.703339</td>\n",
       "      <td>601611.93220</td>\n",
       "    </tr>\n",
       "    <tr>\n",
       "      <th>481</th>\n",
       "      <td>44.151526</td>\n",
       "      <td>636927.03260</td>\n",
       "    </tr>\n",
       "    <tr>\n",
       "      <th>482</th>\n",
       "      <td>39.620566</td>\n",
       "      <td>330178.62770</td>\n",
       "    </tr>\n",
       "    <tr>\n",
       "      <th>483</th>\n",
       "      <td>54.090910</td>\n",
       "      <td>903053.67720</td>\n",
       "    </tr>\n",
       "    <tr>\n",
       "      <th>484</th>\n",
       "      <td>48.053812</td>\n",
       "      <td>718014.22440</td>\n",
       "    </tr>\n",
       "    <tr>\n",
       "      <th>485</th>\n",
       "      <td>34.262190</td>\n",
       "      <td>384891.52250</td>\n",
       "    </tr>\n",
       "    <tr>\n",
       "      <th>486</th>\n",
       "      <td>38.351127</td>\n",
       "      <td>33837.93215</td>\n",
       "    </tr>\n",
       "    <tr>\n",
       "      <th>487</th>\n",
       "      <td>41.759641</td>\n",
       "      <td>422084.86440</td>\n",
       "    </tr>\n",
       "    <tr>\n",
       "      <th>488</th>\n",
       "      <td>52.227161</td>\n",
       "      <td>594855.51700</td>\n",
       "    </tr>\n",
       "    <tr>\n",
       "      <th>489</th>\n",
       "      <td>47.870509</td>\n",
       "      <td>368474.89240</td>\n",
       "    </tr>\n",
       "    <tr>\n",
       "      <th>490</th>\n",
       "      <td>57.216789</td>\n",
       "      <td>926205.92310</td>\n",
       "    </tr>\n",
       "    <tr>\n",
       "      <th>491</th>\n",
       "      <td>56.856234</td>\n",
       "      <td>811243.38590</td>\n",
       "    </tr>\n",
       "    <tr>\n",
       "      <th>492</th>\n",
       "      <td>36.715155</td>\n",
       "      <td>499613.61590</td>\n",
       "    </tr>\n",
       "    <tr>\n",
       "      <th>493</th>\n",
       "      <td>50.646174</td>\n",
       "      <td>612945.00290</td>\n",
       "    </tr>\n",
       "    <tr>\n",
       "      <th>494</th>\n",
       "      <td>50.970160</td>\n",
       "      <td>224468.40010</td>\n",
       "    </tr>\n",
       "    <tr>\n",
       "      <th>495</th>\n",
       "      <td>46.678128</td>\n",
       "      <td>704243.07760</td>\n",
       "    </tr>\n",
       "    <tr>\n",
       "      <th>496</th>\n",
       "      <td>43.545007</td>\n",
       "      <td>483175.99980</td>\n",
       "    </tr>\n",
       "    <tr>\n",
       "      <th>497</th>\n",
       "      <td>46.476724</td>\n",
       "      <td>354919.19870</td>\n",
       "    </tr>\n",
       "    <tr>\n",
       "      <th>498</th>\n",
       "      <td>50.903631</td>\n",
       "      <td>639789.92190</td>\n",
       "    </tr>\n",
       "    <tr>\n",
       "      <th>499</th>\n",
       "      <td>38.590586</td>\n",
       "      <td>491310.00960</td>\n",
       "    </tr>\n",
       "  </tbody>\n",
       "</table>\n",
       "<p>500 rows × 2 columns</p>\n",
       "</div>"
      ],
      "text/plain": [
       "           Age  401K Savings\n",
       "0    39.180417  322349.87400\n",
       "1    56.101686  768671.57400\n",
       "2    57.023043  821505.47180\n",
       "3    43.711358  494187.48500\n",
       "4    54.728823  691435.77230\n",
       "5    50.499789  742398.90680\n",
       "6    39.573302  578650.31560\n",
       "7    55.159309  533821.20110\n",
       "8    30.791271  459592.40840\n",
       "9    40.456073  396800.25090\n",
       "10   33.891197  272808.27190\n",
       "11   42.754416  377042.24580\n",
       "12   44.224980  482773.22360\n",
       "13   47.499065  628103.67790\n",
       "14   62.862411  771170.28450\n",
       "15   56.331436  531736.74180\n",
       "16   43.166995  475505.76040\n",
       "17   63.785544  669249.97070\n",
       "18   45.790401  488283.99620\n",
       "19   49.070731  666179.03390\n",
       "20   44.929077  667652.07410\n",
       "21   48.337938  576300.13210\n",
       "22   51.291044  584324.07870\n",
       "23   47.073786  676035.72310\n",
       "24   47.759759  538416.34500\n",
       "25   49.692698  727503.27610\n",
       "26   38.040414  382831.37020\n",
       "27   48.021294  759955.47000\n",
       "28   34.859999  349137.70720\n",
       "29   40.403537  439074.52170\n",
       "..         ...           ...\n",
       "470  48.855161  284513.10180\n",
       "471  41.332491  508589.00450\n",
       "472  44.551781  477706.95010\n",
       "473  45.640679  428892.62290\n",
       "474  43.368261  408815.12930\n",
       "475  60.267177  536666.47290\n",
       "476  48.877751  671181.13960\n",
       "477  34.393394  322818.91650\n",
       "478  45.829350  534021.37780\n",
       "479  60.025200  727621.52530\n",
       "480  64.703339  601611.93220\n",
       "481  44.151526  636927.03260\n",
       "482  39.620566  330178.62770\n",
       "483  54.090910  903053.67720\n",
       "484  48.053812  718014.22440\n",
       "485  34.262190  384891.52250\n",
       "486  38.351127   33837.93215\n",
       "487  41.759641  422084.86440\n",
       "488  52.227161  594855.51700\n",
       "489  47.870509  368474.89240\n",
       "490  57.216789  926205.92310\n",
       "491  56.856234  811243.38590\n",
       "492  36.715155  499613.61590\n",
       "493  50.646174  612945.00290\n",
       "494  50.970160  224468.40010\n",
       "495  46.678128  704243.07760\n",
       "496  43.545007  483175.99980\n",
       "497  46.476724  354919.19870\n",
       "498  50.903631  639789.92190\n",
       "499  38.590586  491310.00960\n",
       "\n",
       "[500 rows x 2 columns]"
      ]
     },
     "execution_count": 11,
     "metadata": {},
     "output_type": "execute_result"
    }
   ],
   "source": [
    "X"
   ]
  },
  {
   "cell_type": "code",
   "execution_count": 12,
   "metadata": {},
   "outputs": [
    {
     "data": {
      "text/plain": [
       "0      0\n",
       "1      1\n",
       "2      1\n",
       "3      0\n",
       "4      1\n",
       "5      1\n",
       "6      0\n",
       "7      1\n",
       "8      0\n",
       "9      0\n",
       "10     0\n",
       "11     0\n",
       "12     0\n",
       "13     1\n",
       "14     1\n",
       "15     1\n",
       "16     0\n",
       "17     1\n",
       "18     0\n",
       "19     1\n",
       "20     1\n",
       "21     0\n",
       "22     1\n",
       "23     1\n",
       "24     0\n",
       "25     1\n",
       "26     0\n",
       "27     1\n",
       "28     0\n",
       "29     0\n",
       "      ..\n",
       "470    0\n",
       "471    0\n",
       "472    0\n",
       "473    0\n",
       "474    0\n",
       "475    1\n",
       "476    1\n",
       "477    0\n",
       "478    0\n",
       "479    1\n",
       "480    1\n",
       "481    1\n",
       "482    0\n",
       "483    1\n",
       "484    1\n",
       "485    0\n",
       "486    0\n",
       "487    0\n",
       "488    1\n",
       "489    0\n",
       "490    1\n",
       "491    1\n",
       "492    0\n",
       "493    1\n",
       "494    0\n",
       "495    1\n",
       "496    0\n",
       "497    0\n",
       "498    1\n",
       "499    0\n",
       "Name: Retire, Length: 500, dtype: int64"
      ]
     },
     "execution_count": 12,
     "metadata": {},
     "output_type": "execute_result"
    }
   ],
   "source": [
    "y = bank_df['Retire']\n",
    "y"
   ]
  },
  {
   "cell_type": "code",
   "execution_count": 13,
   "metadata": {
    "collapsed": true
   },
   "outputs": [],
   "source": [
    "from sklearn.model_selection import train_test_split\n",
    "\n",
    "X_train, X_test, y_train, y_test = train_test_split(X, y, test_size = 0.20, random_state=5)"
   ]
  },
  {
   "cell_type": "code",
   "execution_count": 14,
   "metadata": {},
   "outputs": [
    {
     "data": {
      "text/plain": [
       "(400, 2)"
      ]
     },
     "execution_count": 14,
     "metadata": {},
     "output_type": "execute_result"
    }
   ],
   "source": [
    "X_train.shape"
   ]
  },
  {
   "cell_type": "code",
   "execution_count": 15,
   "metadata": {},
   "outputs": [
    {
     "data": {
      "text/plain": [
       "(100, 2)"
      ]
     },
     "execution_count": 15,
     "metadata": {},
     "output_type": "execute_result"
    }
   ],
   "source": [
    "X_test.shape"
   ]
  },
  {
   "cell_type": "code",
   "execution_count": 16,
   "metadata": {},
   "outputs": [
    {
     "data": {
      "text/plain": [
       "(400L,)"
      ]
     },
     "execution_count": 16,
     "metadata": {},
     "output_type": "execute_result"
    }
   ],
   "source": [
    "y_train.shape"
   ]
  },
  {
   "cell_type": "code",
   "execution_count": 17,
   "metadata": {},
   "outputs": [
    {
     "data": {
      "text/plain": [
       "(100L,)"
      ]
     },
     "execution_count": 17,
     "metadata": {},
     "output_type": "execute_result"
    }
   ],
   "source": [
    "y_test.shape"
   ]
  },
  {
   "cell_type": "code",
   "execution_count": 18,
   "metadata": {},
   "outputs": [
    {
     "data": {
      "text/plain": [
       "SVC(C=1.0, cache_size=200, class_weight=None, coef0=0.0,\n",
       "  decision_function_shape=None, degree=3, gamma='auto', kernel='rbf',\n",
       "  max_iter=-1, probability=False, random_state=None, shrinking=True,\n",
       "  tol=0.001, verbose=False)"
      ]
     },
     "execution_count": 18,
     "metadata": {},
     "output_type": "execute_result"
    }
   ],
   "source": [
    "from sklearn.svm import SVC \n",
    "from sklearn.metrics import classification_report, confusion_matrix\n",
    "\n",
    "svc_model = SVC()\n",
    "svc_model.fit(X_train, y_train)"
   ]
  },
  {
   "cell_type": "markdown",
   "metadata": {},
   "source": [
    "## EVALUATING THE MODEL"
   ]
  },
  {
   "cell_type": "code",
   "execution_count": 19,
   "metadata": {
    "collapsed": true
   },
   "outputs": [],
   "source": [
    "y_predict = svc_model.predict(X_test)\n",
    "cm = confusion_matrix(y_test, y_predict)"
   ]
  },
  {
   "cell_type": "code",
   "execution_count": 20,
   "metadata": {},
   "outputs": [
    {
     "data": {
      "text/plain": [
       "<matplotlib.axes._subplots.AxesSubplot at 0xd96ba90>"
      ]
     },
     "execution_count": 20,
     "metadata": {},
     "output_type": "execute_result"
    },
    {
     "data": {
      "image/png": "[encoded data removed]",
      "text/plain": [
       "<matplotlib.figure.Figure at 0xd179ba8>"
      ]
     },
     "metadata": {},
     "output_type": "display_data"
    }
   ],
   "source": [
    "sns.heatmap(cm, annot=True)"
   ]
  },
  {
   "cell_type": "code",
   "execution_count": 21,
   "metadata": {},
   "outputs": [
    {
     "name": "stdout",
     "output_type": "stream",
     "text": [
      "             precision    recall  f1-score   support\n",
      "\n",
      "          0       0.43      1.00      0.60        43\n",
      "          1       0.00      0.00      0.00        57\n",
      "\n",
      "avg / total       0.18      0.43      0.26       100\n",
      "\n"
     ]
    },
    {
     "name": "stderr",
     "output_type": "stream",
     "text": [
      "C:\\Users\\adamd\\Anaconda2\\lib\\site-packages\\sklearn\\metrics\\classification.py:1113: UndefinedMetricWarning: Precision and F-score are ill-defined and being set to 0.0 in labels with no predicted samples.\n",
      "  'precision', 'predicted', average, warn_for)\n"
     ]
    }
   ],
   "source": [
    "print(classification_report(y_test, y_predict))"
   ]
  },
  {
   "cell_type": "markdown",
   "metadata": {},
   "source": [
    "## IMPROVING THE MODEL - Normalizing Data"
   ]
  },
  {
   "cell_type": "code",
   "execution_count": 22,
   "metadata": {},
   "outputs": [
    {
     "data": {
      "text/plain": [
       "Age             25.0\n",
       "401K Savings    10.0\n",
       "dtype: float64"
      ]
     },
     "execution_count": 22,
     "metadata": {},
     "output_type": "execute_result"
    }
   ],
   "source": [
    "min_train = X_train.min()\n",
    "min_train"
   ]
  },
  {
   "cell_type": "code",
   "execution_count": 23,
   "metadata": {},
   "outputs": [
    {
     "data": {
      "text/plain": [
       "Age                 42.318208\n",
       "401K Savings    999990.000000\n",
       "dtype: float64"
      ]
     },
     "execution_count": 23,
     "metadata": {},
     "output_type": "execute_result"
    }
   ],
   "source": [
    "range_train = (X_train - min_train).max()\n",
    "range_train"
   ]
  },
  {
   "cell_type": "code",
   "execution_count": 24,
   "metadata": {
    "collapsed": true
   },
   "outputs": [],
   "source": [
    "X_train_scaled = (X_train - min_train)/range_train"
   ]
  },
  {
   "cell_type": "code",
   "execution_count": 25,
   "metadata": {},
   "outputs": [
    {
     "data": {
      "text/html": [
       "<div>\n",
       "<style>\n",
       "    .dataframe thead tr:only-child th {\n",
       "        text-align: right;\n",
       "    }\n",
       "\n",
       "    .dataframe thead th {\n",
       "        text-align: left;\n",
       "    }\n",
       "\n",
       "    .dataframe tbody tr th {\n",
       "        vertical-align: top;\n",
       "    }\n",
       "</style>\n",
       "<table border=\"1\" class=\"dataframe\">\n",
       "  <thead>\n",
       "    <tr style=\"text-align: right;\">\n",
       "      <th></th>\n",
       "      <th>Age</th>\n",
       "      <th>401K Savings</th>\n",
       "    </tr>\n",
       "  </thead>\n",
       "  <tbody>\n",
       "    <tr>\n",
       "      <th>247</th>\n",
       "      <td>0.488640</td>\n",
       "      <td>0.684860</td>\n",
       "    </tr>\n",
       "    <tr>\n",
       "      <th>390</th>\n",
       "      <td>0.731713</td>\n",
       "      <td>0.651642</td>\n",
       "    </tr>\n",
       "    <tr>\n",
       "      <th>186</th>\n",
       "      <td>0.636117</td>\n",
       "      <td>0.669911</td>\n",
       "    </tr>\n",
       "    <tr>\n",
       "      <th>484</th>\n",
       "      <td>0.544773</td>\n",
       "      <td>0.718011</td>\n",
       "    </tr>\n",
       "    <tr>\n",
       "      <th>139</th>\n",
       "      <td>0.455655</td>\n",
       "      <td>0.363796</td>\n",
       "    </tr>\n",
       "    <tr>\n",
       "      <th>47</th>\n",
       "      <td>0.588172</td>\n",
       "      <td>0.425905</td>\n",
       "    </tr>\n",
       "    <tr>\n",
       "      <th>9</th>\n",
       "      <td>0.365235</td>\n",
       "      <td>0.396794</td>\n",
       "    </tr>\n",
       "    <tr>\n",
       "      <th>278</th>\n",
       "      <td>0.692734</td>\n",
       "      <td>0.674955</td>\n",
       "    </tr>\n",
       "    <tr>\n",
       "      <th>336</th>\n",
       "      <td>0.170522</td>\n",
       "      <td>0.175254</td>\n",
       "    </tr>\n",
       "    <tr>\n",
       "      <th>302</th>\n",
       "      <td>0.514624</td>\n",
       "      <td>0.645350</td>\n",
       "    </tr>\n",
       "    <tr>\n",
       "      <th>117</th>\n",
       "      <td>0.615619</td>\n",
       "      <td>0.563442</td>\n",
       "    </tr>\n",
       "    <tr>\n",
       "      <th>327</th>\n",
       "      <td>0.604647</td>\n",
       "      <td>0.740842</td>\n",
       "    </tr>\n",
       "    <tr>\n",
       "      <th>53</th>\n",
       "      <td>0.279485</td>\n",
       "      <td>0.273846</td>\n",
       "    </tr>\n",
       "    <tr>\n",
       "      <th>101</th>\n",
       "      <td>0.442407</td>\n",
       "      <td>0.342115</td>\n",
       "    </tr>\n",
       "    <tr>\n",
       "      <th>458</th>\n",
       "      <td>0.868710</td>\n",
       "      <td>0.571816</td>\n",
       "    </tr>\n",
       "    <tr>\n",
       "      <th>285</th>\n",
       "      <td>0.703190</td>\n",
       "      <td>0.616374</td>\n",
       "    </tr>\n",
       "    <tr>\n",
       "      <th>184</th>\n",
       "      <td>0.641010</td>\n",
       "      <td>0.707949</td>\n",
       "    </tr>\n",
       "    <tr>\n",
       "      <th>393</th>\n",
       "      <td>0.620965</td>\n",
       "      <td>0.662077</td>\n",
       "    </tr>\n",
       "    <tr>\n",
       "      <th>421</th>\n",
       "      <td>0.527007</td>\n",
       "      <td>0.312887</td>\n",
       "    </tr>\n",
       "    <tr>\n",
       "      <th>358</th>\n",
       "      <td>0.671067</td>\n",
       "      <td>0.353445</td>\n",
       "    </tr>\n",
       "    <tr>\n",
       "      <th>230</th>\n",
       "      <td>0.667574</td>\n",
       "      <td>0.624958</td>\n",
       "    </tr>\n",
       "    <tr>\n",
       "      <th>435</th>\n",
       "      <td>0.634837</td>\n",
       "      <td>0.656007</td>\n",
       "    </tr>\n",
       "    <tr>\n",
       "      <th>132</th>\n",
       "      <td>0.559136</td>\n",
       "      <td>0.681513</td>\n",
       "    </tr>\n",
       "    <tr>\n",
       "      <th>49</th>\n",
       "      <td>0.161304</td>\n",
       "      <td>0.515107</td>\n",
       "    </tr>\n",
       "    <tr>\n",
       "      <th>224</th>\n",
       "      <td>0.220401</td>\n",
       "      <td>0.523326</td>\n",
       "    </tr>\n",
       "    <tr>\n",
       "      <th>111</th>\n",
       "      <td>0.514292</td>\n",
       "      <td>0.787630</td>\n",
       "    </tr>\n",
       "    <tr>\n",
       "      <th>262</th>\n",
       "      <td>0.857538</td>\n",
       "      <td>0.458287</td>\n",
       "    </tr>\n",
       "    <tr>\n",
       "      <th>317</th>\n",
       "      <td>0.328761</td>\n",
       "      <td>0.501945</td>\n",
       "    </tr>\n",
       "    <tr>\n",
       "      <th>352</th>\n",
       "      <td>0.289347</td>\n",
       "      <td>0.454088</td>\n",
       "    </tr>\n",
       "    <tr>\n",
       "      <th>470</th>\n",
       "      <td>0.563709</td>\n",
       "      <td>0.284506</td>\n",
       "    </tr>\n",
       "    <tr>\n",
       "      <th>...</th>\n",
       "      <td>...</td>\n",
       "      <td>...</td>\n",
       "    </tr>\n",
       "    <tr>\n",
       "      <th>468</th>\n",
       "      <td>0.390414</td>\n",
       "      <td>0.541967</td>\n",
       "    </tr>\n",
       "    <tr>\n",
       "      <th>30</th>\n",
       "      <td>0.278388</td>\n",
       "      <td>0.554549</td>\n",
       "    </tr>\n",
       "    <tr>\n",
       "      <th>431</th>\n",
       "      <td>0.315983</td>\n",
       "      <td>0.500478</td>\n",
       "    </tr>\n",
       "    <tr>\n",
       "      <th>65</th>\n",
       "      <td>0.493353</td>\n",
       "      <td>0.260737</td>\n",
       "    </tr>\n",
       "    <tr>\n",
       "      <th>203</th>\n",
       "      <td>0.146739</td>\n",
       "      <td>0.388346</td>\n",
       "    </tr>\n",
       "    <tr>\n",
       "      <th>205</th>\n",
       "      <td>0.789944</td>\n",
       "      <td>0.719609</td>\n",
       "    </tr>\n",
       "    <tr>\n",
       "      <th>44</th>\n",
       "      <td>0.396387</td>\n",
       "      <td>0.626093</td>\n",
       "    </tr>\n",
       "    <tr>\n",
       "      <th>27</th>\n",
       "      <td>0.544004</td>\n",
       "      <td>0.759953</td>\n",
       "    </tr>\n",
       "    <tr>\n",
       "      <th>80</th>\n",
       "      <td>0.382576</td>\n",
       "      <td>0.368823</td>\n",
       "    </tr>\n",
       "    <tr>\n",
       "      <th>437</th>\n",
       "      <td>0.401160</td>\n",
       "      <td>0.261559</td>\n",
       "    </tr>\n",
       "    <tr>\n",
       "      <th>113</th>\n",
       "      <td>0.149280</td>\n",
       "      <td>0.317025</td>\n",
       "    </tr>\n",
       "    <tr>\n",
       "      <th>399</th>\n",
       "      <td>0.221033</td>\n",
       "      <td>0.312821</td>\n",
       "    </tr>\n",
       "    <tr>\n",
       "      <th>204</th>\n",
       "      <td>0.117748</td>\n",
       "      <td>0.331375</td>\n",
       "    </tr>\n",
       "    <tr>\n",
       "      <th>7</th>\n",
       "      <td>0.712679</td>\n",
       "      <td>0.533817</td>\n",
       "    </tr>\n",
       "    <tr>\n",
       "      <th>208</th>\n",
       "      <td>0.560736</td>\n",
       "      <td>0.949185</td>\n",
       "    </tr>\n",
       "    <tr>\n",
       "      <th>158</th>\n",
       "      <td>0.448793</td>\n",
       "      <td>0.755525</td>\n",
       "    </tr>\n",
       "    <tr>\n",
       "      <th>112</th>\n",
       "      <td>0.531969</td>\n",
       "      <td>0.581091</td>\n",
       "    </tr>\n",
       "    <tr>\n",
       "      <th>411</th>\n",
       "      <td>0.572037</td>\n",
       "      <td>0.655158</td>\n",
       "    </tr>\n",
       "    <tr>\n",
       "      <th>446</th>\n",
       "      <td>0.381670</td>\n",
       "      <td>0.365998</td>\n",
       "    </tr>\n",
       "    <tr>\n",
       "      <th>231</th>\n",
       "      <td>0.466532</td>\n",
       "      <td>0.413306</td>\n",
       "    </tr>\n",
       "    <tr>\n",
       "      <th>228</th>\n",
       "      <td>0.556566</td>\n",
       "      <td>0.362659</td>\n",
       "    </tr>\n",
       "    <tr>\n",
       "      <th>8</th>\n",
       "      <td>0.136851</td>\n",
       "      <td>0.459587</td>\n",
       "    </tr>\n",
       "    <tr>\n",
       "      <th>73</th>\n",
       "      <td>0.210041</td>\n",
       "      <td>0.233903</td>\n",
       "    </tr>\n",
       "    <tr>\n",
       "      <th>400</th>\n",
       "      <td>0.414433</td>\n",
       "      <td>0.398466</td>\n",
       "    </tr>\n",
       "    <tr>\n",
       "      <th>118</th>\n",
       "      <td>0.465951</td>\n",
       "      <td>0.576924</td>\n",
       "    </tr>\n",
       "    <tr>\n",
       "      <th>486</th>\n",
       "      <td>0.315494</td>\n",
       "      <td>0.033828</td>\n",
       "    </tr>\n",
       "    <tr>\n",
       "      <th>189</th>\n",
       "      <td>0.281290</td>\n",
       "      <td>0.374391</td>\n",
       "    </tr>\n",
       "    <tr>\n",
       "      <th>495</th>\n",
       "      <td>0.512265</td>\n",
       "      <td>0.704240</td>\n",
       "    </tr>\n",
       "    <tr>\n",
       "      <th>206</th>\n",
       "      <td>0.510404</td>\n",
       "      <td>0.626791</td>\n",
       "    </tr>\n",
       "    <tr>\n",
       "      <th>355</th>\n",
       "      <td>0.375989</td>\n",
       "      <td>0.375724</td>\n",
       "    </tr>\n",
       "  </tbody>\n",
       "</table>\n",
       "<p>400 rows × 2 columns</p>\n",
       "</div>"
      ],
      "text/plain": [
       "          Age  401K Savings\n",
       "247  0.488640      0.684860\n",
       "390  0.731713      0.651642\n",
       "186  0.636117      0.669911\n",
       "484  0.544773      0.718011\n",
       "139  0.455655      0.363796\n",
       "47   0.588172      0.425905\n",
       "9    0.365235      0.396794\n",
       "278  0.692734      0.674955\n",
       "336  0.170522      0.175254\n",
       "302  0.514624      0.645350\n",
       "117  0.615619      0.563442\n",
       "327  0.604647      0.740842\n",
       "53   0.279485      0.273846\n",
       "101  0.442407      0.342115\n",
       "458  0.868710      0.571816\n",
       "285  0.703190      0.616374\n",
       "184  0.641010      0.707949\n",
       "393  0.620965      0.662077\n",
       "421  0.527007      0.312887\n",
       "358  0.671067      0.353445\n",
       "230  0.667574      0.624958\n",
       "435  0.634837      0.656007\n",
       "132  0.559136      0.681513\n",
       "49   0.161304      0.515107\n",
       "224  0.220401      0.523326\n",
       "111  0.514292      0.787630\n",
       "262  0.857538      0.458287\n",
       "317  0.328761      0.501945\n",
       "352  0.289347      0.454088\n",
       "470  0.563709      0.284506\n",
       "..        ...           ...\n",
       "468  0.390414      0.541967\n",
       "30   0.278388      0.554549\n",
       "431  0.315983      0.500478\n",
       "65   0.493353      0.260737\n",
       "203  0.146739      0.388346\n",
       "205  0.789944      0.719609\n",
       "44   0.396387      0.626093\n",
       "27   0.544004      0.759953\n",
       "80   0.382576      0.368823\n",
       "437  0.401160      0.261559\n",
       "113  0.149280      0.317025\n",
       "399  0.221033      0.312821\n",
       "204  0.117748      0.331375\n",
       "7    0.712679      0.533817\n",
       "208  0.560736      0.949185\n",
       "158  0.448793      0.755525\n",
       "112  0.531969      0.581091\n",
       "411  0.572037      0.655158\n",
       "446  0.381670      0.365998\n",
       "231  0.466532      0.413306\n",
       "228  0.556566      0.362659\n",
       "8    0.136851      0.459587\n",
       "73   0.210041      0.233903\n",
       "400  0.414433      0.398466\n",
       "118  0.465951      0.576924\n",
       "486  0.315494      0.033828\n",
       "189  0.281290      0.374391\n",
       "495  0.512265      0.704240\n",
       "206  0.510404      0.626791\n",
       "355  0.375989      0.375724\n",
       "\n",
       "[400 rows x 2 columns]"
      ]
     },
     "execution_count": 25,
     "metadata": {},
     "output_type": "execute_result"
    }
   ],
   "source": [
    "X_train_scaled"
   ]
  },
  {
   "cell_type": "code",
   "execution_count": 26,
   "metadata": {},
   "outputs": [
    {
     "data": {
      "text/plain": [
       "247    1\n",
       "390    1\n",
       "186    1\n",
       "484    1\n",
       "139    0\n",
       "47     1\n",
       "9      0\n",
       "278    1\n",
       "336    0\n",
       "302    1\n",
       "117    0\n",
       "327    1\n",
       "53     0\n",
       "101    0\n",
       "458    1\n",
       "285    1\n",
       "184    1\n",
       "393    1\n",
       "421    0\n",
       "358    0\n",
       "230    1\n",
       "435    1\n",
       "132    1\n",
       "49     0\n",
       "224    0\n",
       "111    1\n",
       "262    1\n",
       "317    0\n",
       "352    0\n",
       "470    0\n",
       "      ..\n",
       "468    0\n",
       "30     0\n",
       "431    0\n",
       "65     0\n",
       "203    0\n",
       "205    1\n",
       "44     0\n",
       "27     1\n",
       "80     0\n",
       "437    0\n",
       "113    0\n",
       "399    0\n",
       "204    0\n",
       "7      1\n",
       "208    1\n",
       "158    1\n",
       "112    1\n",
       "411    1\n",
       "446    0\n",
       "231    0\n",
       "228    0\n",
       "8      0\n",
       "73     0\n",
       "400    0\n",
       "118    1\n",
       "486    0\n",
       "189    0\n",
       "495    1\n",
       "206    1\n",
       "355    0\n",
       "Name: Retire, Length: 400, dtype: int64"
      ]
     },
     "execution_count": 26,
     "metadata": {},
     "output_type": "execute_result"
    }
   ],
   "source": [
    "y_train"
   ]
  },
  {
   "cell_type": "code",
   "execution_count": 27,
   "metadata": {
    "scrolled": true
   },
   "outputs": [
    {
     "data": {
      "text/plain": [
       "<matplotlib.axes._subplots.AxesSubplot at 0xdc79860>"
      ]
     },
     "execution_count": 27,
     "metadata": {},
     "output_type": "execute_result"
    },
    {
     "data": {
      "image/png": "[encoded data removed]",
      "text/plain": [
       "<matplotlib.figure.Figure at 0xd96b4e0>"
      ]
     },
     "metadata": {},
     "output_type": "display_data"
    }
   ],
   "source": [
    "sns.scatterplot(x = X_train['Age'], y = X_train['401K Savings'], hue = y_train)"
   ]
  },
  {
   "cell_type": "code",
   "execution_count": 28,
   "metadata": {},
   "outputs": [
    {
     "data": {
      "text/plain": [
       "<matplotlib.axes._subplots.AxesSubplot at 0xddb17f0>"
      ]
     },
     "execution_count": 28,
     "metadata": {},
     "output_type": "execute_result"
    },
    {
     "data": {
      "image/png": "[encoded data removed]",
      "text/plain": [
       "<matplotlib.figure.Figure at 0xddfd470>"
      ]
     },
     "metadata": {},
     "output_type": "display_data"
    }
   ],
   "source": [
    "sns.scatterplot(x = X_train_scaled['Age'], y = X_train_scaled['401K Savings'], hue = y_train)"
   ]
  },
  {
   "cell_type": "code",
   "execution_count": 29,
   "metadata": {
    "collapsed": true
   },
   "outputs": [],
   "source": [
    "min_test = X_test.min()\n",
    "range_test = (X_test - min_test).max()\n",
    "X_test_scaled = (X_test - min_test)/range_test"
   ]
  },
  {
   "cell_type": "code",
   "execution_count": 30,
   "metadata": {},
   "outputs": [
    {
     "data": {
      "text/plain": [
       "SVC(C=1.0, cache_size=200, class_weight=None, coef0=0.0,\n",
       "  decision_function_shape=None, degree=3, gamma='auto', kernel='rbf',\n",
       "  max_iter=-1, probability=False, random_state=None, shrinking=True,\n",
       "  tol=0.001, verbose=False)"
      ]
     },
     "execution_count": 30,
     "metadata": {},
     "output_type": "execute_result"
    }
   ],
   "source": [
    "from sklearn.svm import SVC \n",
    "from sklearn.metrics import classification_report, confusion_matrix\n",
    "\n",
    "svc_model = SVC()\n",
    "svc_model.fit(X_train_scaled, y_train)"
   ]
  },
  {
   "cell_type": "code",
   "execution_count": 31,
   "metadata": {},
   "outputs": [
    {
     "data": {
      "text/plain": [
       "<matplotlib.axes._subplots.AxesSubplot at 0xe3c66d8>"
      ]
     },
     "execution_count": 31,
     "metadata": {},
     "output_type": "execute_result"
    },
    {
     "data": {
      "image/png": "[encoded data removed]",
      "text/plain": [
       "<matplotlib.figure.Figure at 0xe3d35c0>"
      ]
     },
     "metadata": {},
     "output_type": "display_data"
    }
   ],
   "source": [
    "y_predict = svc_model.predict(X_test_scaled)\n",
    "cm = confusion_matrix(y_test, y_predict)\n",
    "\n",
    "sns.heatmap(cm,annot=True,fmt=\"d\")"
   ]
  },
  {
   "cell_type": "code",
   "execution_count": 32,
   "metadata": {},
   "outputs": [
    {
     "name": "stdout",
     "output_type": "stream",
     "text": [
      "             precision    recall  f1-score   support\n",
      "\n",
      "          0       0.87      0.95      0.91        43\n",
      "          1       0.96      0.89      0.93        57\n",
      "\n",
      "avg / total       0.92      0.92      0.92       100\n",
      "\n"
     ]
    }
   ],
   "source": [
    "print(classification_report(y_test,y_predict))"
   ]
  },
  {
   "cell_type": "markdown",
   "metadata": {},
   "source": [
    "## IMPROVING THE MODEL FURTHER - Parameter Optimization"
   ]
  },
  {
   "cell_type": "code",
   "execution_count": 33,
   "metadata": {
    "collapsed": true
   },
   "outputs": [],
   "source": [
    "param_grid = {'C': [0.1, 1, 10, 100], 'gamma': [1, 0.1, 0.01, 0.001], 'kernel': ['rbf']} "
   ]
  },
  {
   "cell_type": "code",
   "execution_count": 34,
   "metadata": {
    "collapsed": true
   },
   "outputs": [],
   "source": [
    "from sklearn.model_selection import GridSearchCV"
   ]
  },
  {
   "cell_type": "code",
   "execution_count": 35,
   "metadata": {
    "collapsed": true
   },
   "outputs": [],
   "source": [
    "grid = GridSearchCV(SVC(),param_grid,refit=True,verbose=4)"
   ]
  },
  {
   "cell_type": "code",
   "execution_count": 36,
   "metadata": {},
   "outputs": [
    {
     "name": "stdout",
     "output_type": "stream",
     "text": [
      "Fitting 3 folds for each of 16 candidates, totalling 48 fits\n",
      "[CV] kernel=rbf, C=0.1, gamma=1 ......................................\n",
      "[CV] ....... kernel=rbf, C=0.1, gamma=1, score=0.955224, total=   0.0s\n",
      "[CV] kernel=rbf, C=0.1, gamma=1 ......................................\n",
      "[CV] ....... kernel=rbf, C=0.1, gamma=1, score=0.962406, total=   0.0s\n",
      "[CV] kernel=rbf, C=0.1, gamma=1 ......................................\n",
      "[CV] ....... kernel=rbf, C=0.1, gamma=1, score=0.924812, total=   0.0s\n",
      "[CV] kernel=rbf, C=0.1, gamma=0.1 ....................................\n",
      "[CV] ..... kernel=rbf, C=0.1, gamma=0.1, score=0.514925, total=   0.0s\n",
      "[CV] kernel=rbf, C=0.1, gamma=0.1 ....................................\n",
      "[CV] ..... kernel=rbf, C=0.1, gamma=0.1, score=0.518797, total=   0.0s\n",
      "[CV] kernel=rbf, C=0.1, gamma=0.1 ....................................\n",
      "[CV] ..... kernel=rbf, C=0.1, gamma=0.1, score=0.518797, total=   0.0s\n",
      "[CV] kernel=rbf, C=0.1, gamma=0.01 ...................................\n",
      "[CV] .... kernel=rbf, C=0.1, gamma=0.01, score=0.514925, total=   0.0s\n",
      "[CV] kernel=rbf, C=0.1, gamma=0.01 ...................................\n",
      "[CV] .... kernel=rbf, C=0.1, gamma=0.01, score=0.518797, total=   0.0s\n",
      "[CV] kernel=rbf, C=0.1, gamma=0.01 ...................................\n",
      "[CV] .... kernel=rbf, C=0.1, gamma=0.01, score=0.518797, total=   0.0s\n",
      "[CV] kernel=rbf, C=0.1, gamma=0.001 ..................................\n",
      "[CV] ... kernel=rbf, C=0.1, gamma=0.001, score=0.514925, total=   0.0s\n",
      "[CV] kernel=rbf, C=0.1, gamma=0.001 ..................................\n",
      "[CV] ... kernel=rbf, C=0.1, gamma=0.001, score=0.518797, total=   0.0s\n",
      "[CV] kernel=rbf, C=0.1, gamma=0.001 ..................................\n",
      "[CV] ... kernel=rbf, C=0.1, gamma=0.001, score=0.518797, total=   0.0s\n",
      "[CV] kernel=rbf, C=1, gamma=1 ........................................\n",
      "[CV] ......... kernel=rbf, C=1, gamma=1, score=0.947761, total=   0.0s\n",
      "[CV] kernel=rbf, C=1, gamma=1 ........................................\n",
      "[CV] ......... kernel=rbf, C=1, gamma=1, score=0.954887, total=   0.0s\n",
      "[CV] kernel=rbf, C=1, gamma=1 ........................................\n",
      "[CV] ......... kernel=rbf, C=1, gamma=1, score=0.924812, total=   0.0s\n",
      "[CV] kernel=rbf, C=1, gamma=0.1 ......................................\n",
      "[CV] ....... kernel=rbf, C=1, gamma=0.1, score=0.955224, total=   0.0s\n",
      "[CV] kernel=rbf, C=1, gamma=0.1 ......................................\n",
      "[CV] ....... kernel=rbf, C=1, gamma=0.1, score=0.962406, total=   0.0s\n",
      "[CV] kernel=rbf, C=1, gamma=0.1 ......................................\n",
      "[CV] ....... kernel=rbf, C=1, gamma=0.1, score=0.924812, total=   0.0s\n",
      "[CV] kernel=rbf, C=1, gamma=0.01 .....................................\n",
      "[CV] ...... kernel=rbf, C=1, gamma=0.01, score=0.514925, total=   0.0s\n",
      "[CV] kernel=rbf, C=1, gamma=0.01 .....................................\n",
      "[CV] ...... kernel=rbf, C=1, gamma=0.01, score=0.518797, total=   0.0s"
     ]
    },
    {
     "name": "stderr",
     "output_type": "stream",
     "text": [
      "[Parallel(n_jobs=1)]: Done   1 out of   1 | elapsed:    0.0s remaining:    0.0s\n",
      "[Parallel(n_jobs=1)]: Done   2 out of   2 | elapsed:    0.0s remaining:    0.0s\n",
      "[Parallel(n_jobs=1)]: Done   3 out of   3 | elapsed:    0.0s remaining:    0.0s\n"
     ]
    },
    {
     "name": "stdout",
     "output_type": "stream",
     "text": [
      "\n",
      "[CV] kernel=rbf, C=1, gamma=0.01 .....................................\n",
      "[CV] ...... kernel=rbf, C=1, gamma=0.01, score=0.518797, total=   0.0s\n",
      "[CV] kernel=rbf, C=1, gamma=0.001 ....................................\n",
      "[CV] ..... kernel=rbf, C=1, gamma=0.001, score=0.514925, total=   0.0s\n",
      "[CV] kernel=rbf, C=1, gamma=0.001 ....................................\n",
      "[CV] ..... kernel=rbf, C=1, gamma=0.001, score=0.518797, total=   0.0s\n",
      "[CV] kernel=rbf, C=1, gamma=0.001 ....................................\n",
      "[CV] ..... kernel=rbf, C=1, gamma=0.001, score=0.518797, total=   0.0s\n",
      "[CV] kernel=rbf, C=10, gamma=1 .......................................\n",
      "[CV] ........ kernel=rbf, C=10, gamma=1, score=0.955224, total=   0.0s\n",
      "[CV] kernel=rbf, C=10, gamma=1 .......................................\n",
      "[CV] ........ kernel=rbf, C=10, gamma=1, score=0.954887, total=   0.0s\n",
      "[CV] kernel=rbf, C=10, gamma=1 .......................................\n",
      "[CV] ........ kernel=rbf, C=10, gamma=1, score=0.932331, total=   0.0s\n",
      "[CV] kernel=rbf, C=10, gamma=0.1 .....................................\n",
      "[CV] ...... kernel=rbf, C=10, gamma=0.1, score=0.955224, total=   0.0s\n",
      "[CV] kernel=rbf, C=10, gamma=0.1 .....................................\n",
      "[CV] ...... kernel=rbf, C=10, gamma=0.1, score=0.962406, total=   0.0s\n",
      "[CV] kernel=rbf, C=10, gamma=0.1 .....................................\n",
      "[CV] ...... kernel=rbf, C=10, gamma=0.1, score=0.932331, total=   0.0s\n",
      "[CV] kernel=rbf, C=10, gamma=0.01 ....................................\n",
      "[CV] ..... kernel=rbf, C=10, gamma=0.01, score=0.955224, total=   0.0s\n",
      "[CV] kernel=rbf, C=10, gamma=0.01 ....................................\n",
      "[CV] ..... kernel=rbf, C=10, gamma=0.01, score=0.962406, total=   0.0s\n",
      "[CV] kernel=rbf, C=10, gamma=0.01 ....................................\n",
      "[CV] ..... kernel=rbf, C=10, gamma=0.01, score=0.924812, total=   0.0s\n",
      "[CV] kernel=rbf, C=10, gamma=0.001 ...................................\n",
      "[CV] .... kernel=rbf, C=10, gamma=0.001, score=0.514925, total=   0.0s\n",
      "[CV] kernel=rbf, C=10, gamma=0.001 ...................................\n",
      "[CV] .... kernel=rbf, C=10, gamma=0.001, score=0.518797, total=   0.0s\n",
      "[CV] kernel=rbf, C=10, gamma=0.001 ...................................\n",
      "[CV] .... kernel=rbf, C=10, gamma=0.001, score=0.518797, total=   0.0s\n",
      "[CV] kernel=rbf, C=100, gamma=1 ......................................\n",
      "[CV] ....... kernel=rbf, C=100, gamma=1, score=0.955224, total=   0.0s\n",
      "[CV] kernel=rbf, C=100, gamma=1 ......................................\n",
      "[CV] ....... kernel=rbf, C=100, gamma=1, score=0.954887, total=   0.0s\n",
      "[CV] kernel=rbf, C=100, gamma=1 ......................................\n",
      "[CV] ....... kernel=rbf, C=100, gamma=1, score=0.924812, total=   0.0s\n",
      "[CV] kernel=rbf, C=100, gamma=0.1 ....................................\n",
      "[CV] ..... kernel=rbf, C=100, gamma=0.1, score=0.955224, total=   0.0s\n",
      "[CV] kernel=rbf, C=100, gamma=0.1 ....................................\n",
      "[CV] ..... kernel=rbf, C=100, gamma=0.1, score=0.954887, total=   0.0s\n",
      "[CV] kernel=rbf, C=100, gamma=0.1 ....................................\n",
      "[CV] ..... kernel=rbf, C=100, gamma=0.1, score=0.932331, total=   0.0s\n",
      "[CV] kernel=rbf, C=100, gamma=0.01 ...................................\n",
      "[CV] .... kernel=rbf, C=100, gamma=0.01, score=0.955224, total=   0.0s\n",
      "[CV] kernel=rbf, C=100, gamma=0.01 ...................................\n",
      "[CV] .... kernel=rbf, C=100, gamma=0.01, score=0.962406, total=   0.0s\n",
      "[CV] kernel=rbf, C=100, gamma=0.01 ...................................\n",
      "[CV] .... kernel=rbf, C=100, gamma=0.01, score=0.932331, total=   0.0s\n",
      "[CV] kernel=rbf, C=100, gamma=0.001 ..................................\n",
      "[CV] ... kernel=rbf, C=100, gamma=0.001, score=0.955224, total=   0.0s\n",
      "[CV] kernel=rbf, C=100, gamma=0.001 ..................................\n",
      "[CV] ... kernel=rbf, C=100, gamma=0.001, score=0.962406, total=   0.0s\n",
      "[CV] kernel=rbf, C=100, gamma=0.001 ..................................\n",
      "[CV] ... kernel=rbf, C=100, gamma=0.001, score=0.924812, total=   0.0s\n"
     ]
    },
    {
     "name": "stderr",
     "output_type": "stream",
     "text": [
      "[Parallel(n_jobs=1)]: Done  48 out of  48 | elapsed:    0.3s finished\n"
     ]
    },
    {
     "data": {
      "text/plain": [
       "GridSearchCV(cv=None, error_score='raise',\n",
       "       estimator=SVC(C=1.0, cache_size=200, class_weight=None, coef0=0.0,\n",
       "  decision_function_shape=None, degree=3, gamma='auto', kernel='rbf',\n",
       "  max_iter=-1, probability=False, random_state=None, shrinking=True,\n",
       "  tol=0.001, verbose=False),\n",
       "       fit_params={}, iid=True, n_jobs=1,\n",
       "       param_grid={'kernel': ['rbf'], 'C': [0.1, 1, 10, 100], 'gamma': [1, 0.1, 0.01, 0.001]},\n",
       "       pre_dispatch='2*n_jobs', refit=True, return_train_score=True,\n",
       "       scoring=None, verbose=4)"
      ]
     },
     "execution_count": 36,
     "metadata": {},
     "output_type": "execute_result"
    }
   ],
   "source": [
    "grid.fit(X_train_scaled,y_train)"
   ]
  },
  {
   "cell_type": "code",
   "execution_count": 37,
   "metadata": {},
   "outputs": [
    {
     "data": {
      "text/plain": [
       "{'C': 10, 'gamma': 0.1, 'kernel': 'rbf'}"
      ]
     },
     "execution_count": 37,
     "metadata": {},
     "output_type": "execute_result"
    }
   ],
   "source": [
    "grid.best_params_"
   ]
  },
  {
   "cell_type": "code",
   "execution_count": 38,
   "metadata": {},
   "outputs": [
    {
     "data": {
      "text/plain": [
       "SVC(C=10, cache_size=200, class_weight=None, coef0=0.0,\n",
       "  decision_function_shape=None, degree=3, gamma=0.1, kernel='rbf',\n",
       "  max_iter=-1, probability=False, random_state=None, shrinking=True,\n",
       "  tol=0.001, verbose=False)"
      ]
     },
     "execution_count": 38,
     "metadata": {},
     "output_type": "execute_result"
    }
   ],
   "source": [
    "grid.best_estimator_"
   ]
  },
  {
   "cell_type": "code",
   "execution_count": 39,
   "metadata": {},
   "outputs": [
    {
     "data": {
      "text/plain": [
       "<matplotlib.axes._subplots.AxesSubplot at 0xe3f5198>"
      ]
     },
     "execution_count": 39,
     "metadata": {},
     "output_type": "execute_result"
    },
    {
     "data": {
      "image/png": "[encoded data removed]",
      "text/plain": [
       "<matplotlib.figure.Figure at 0xd0d9c88>"
      ]
     },
     "metadata": {},
     "output_type": "display_data"
    }
   ],
   "source": [
    "grid_predictions = grid.predict(X_test_scaled)\n",
    "cm = confusion_matrix(y_test, grid_predictions)\n",
    "sns.heatmap(cm, annot=True)"
   ]
  },
  {
   "cell_type": "code",
   "execution_count": 40,
   "metadata": {},
   "outputs": [
    {
     "name": "stdout",
     "output_type": "stream",
     "text": [
      "             precision    recall  f1-score   support\n",
      "\n",
      "          0       0.88      0.98      0.92        43\n",
      "          1       0.98      0.89      0.94        57\n",
      "\n",
      "avg / total       0.94      0.93      0.93       100\n",
      "\n"
     ]
    }
   ],
   "source": [
    "print(classification_report(y_test,grid_predictions))"
   ]
  }
 ],
 "metadata": {
  "kernelspec": {
   "display_name": "Python 2",
   "language": "python",
   "name": "python2"
  },
  "language_info": {
   "codemirror_mode": {
    "name": "ipython",
    "version": 2
   },
   "file_extension": ".py",
   "mimetype": "text/x-python",
   "name": "python",
   "nbconvert_exporter": "python",
   "pygments_lexer": "ipython2",
   "version": "2.7.13"
  },
  "varInspector": {
   "cols": {
    "lenName": 16,
    "lenType": 16,
    "lenVar": 40
   },
   "kernels_config": {
    "python": {
     "delete_cmd_postfix": "",
     "delete_cmd_prefix": "del ",
     "library": "var_list.py",
     "varRefreshCmd": "print(var_dic_list())"
    },
    "r": {
     "delete_cmd_postfix": ") ",
     "delete_cmd_prefix": "rm(",
     "library": "var_list.r",
     "varRefreshCmd": "cat(var_dic_list()) "
    }
   },
   "types_to_exclude": [
    "module",
    "function",
    "builtin_function_or_method",
    "instance",
    "_Feature"
   ],
   "window_display": false
  },
  "widgets": {
   "state": {},
   "version": "1.1.2"
  }
 },
 "nbformat": 4,
 "nbformat_minor": 2
}
